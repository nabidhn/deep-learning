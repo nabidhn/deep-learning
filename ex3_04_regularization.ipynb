{
  "cells": [
    {
      "cell_type": "markdown",
      "id": "99abe309",
      "metadata": {
        "id": "99abe309"
      },
      "source": [
        "**Important! Please do not remove any cells, including the test cells, even if they appear empty. They contain hidden tests, and deleting them could result in a loss of points, as the exercises are graded automatically. Only edit the cells where you are instructed to write your solution.**"
      ]
    },
    {
      "cell_type": "markdown",
      "id": "563db0a1",
      "metadata": {
        "id": "563db0a1"
      },
      "source": [
        "# Exercise 3\n",
        "\n",
        "## Task 4: Regularization Practices (5 Points)\n",
        "\n",
        "In Task 2 you have tried differnt hyperparameter tuning techniques to increase the performance of the model on the training set. In this task, you will practice regularization techniques to help the model to generalize to unseen data, i.e., to increase the performance on the validation set. You are asked to start with a model that achieves a good performance on the training set compared to the base model. However, the number of trainable parameters in this model is large which leads to over-fitting as observed in the training and validation curves. Here we try different techniques to decreadse the number of trainable påarameters and to increase the model performance on validation set.\n",
        "\n",
        "\n",
        "### Summary of Tasks for This Stage\n",
        "\n",
        "\n",
        "**Task 4.1: Experiment with normalization layers** (1 point)\n",
        "\n",
        "    Goal: Observe the effect of batch normalization in model generalization and training stability.\n",
        "\n",
        "**Task 4.2: Experiment with dropout layers** (1 point)\n",
        "\n",
        "    Goal: Observe the effect of dropout layers in model generalization.\n",
        "\n",
        "**Task 4.3: Experiment with efficient model architecture through pooling layers** (3 point)\n",
        "\n",
        "    Goal: Observe the effect of efficient model design through adjusting receptive field of layers.\n",
        "\n",
        "\n",
        "### Deliverables from this task:\n",
        "\n",
        "* ex3_04_regularization.ipynb\n",
        "* 'normalized_model.pth'\n",
        "* 'pooled_model.pth'\n"
      ]
    },
    {
      "cell_type": "code",
      "execution_count": 1,
      "id": "b6f8445f",
      "metadata": {
        "id": "b6f8445f"
      },
      "outputs": [],
      "source": [
        "skip_training = False   # You can set it to True if you want to run inference on your trained model."
      ]
    },
    {
      "cell_type": "code",
      "execution_count": 2,
      "id": "4c688be9-b20b-4996-979e-ee2555da635b",
      "metadata": {
        "id": "4c688be9-b20b-4996-979e-ee2555da635b"
      },
      "outputs": [],
      "source": [
        "# Do not delete this cell"
      ]
    },
    {
      "cell_type": "code",
      "execution_count": 3,
      "id": "0b6feccd",
      "metadata": {
        "id": "0b6feccd"
      },
      "outputs": [],
      "source": [
        "import librosa\n",
        "import os\n",
        "import numpy as np\n",
        "import matplotlib.pyplot as plt\n",
        "import time\n",
        "import torch\n",
        "import torch.nn as nn\n",
        "import random\n",
        "\n",
        "# Set random seeds for all libraries\n",
        "random.seed(1)\n",
        "np.random.seed(1)\n",
        "torch.manual_seed(1)\n",
        "torch.cuda.manual_seed(1)\n",
        "torch.cuda.manual_seed_all(1)\n",
        "\n",
        "# Ensure deterministic behavior\n",
        "torch.backends.cudnn.deterministic = True\n",
        "torch.backends.cudnn.benchmark = False"
      ]
    },
    {
      "cell_type": "code",
      "execution_count": 4,
      "id": "1a9f32a0",
      "metadata": {
        "id": "1a9f32a0"
      },
      "outputs": [],
      "source": [
        "device = torch.device('cuda' if torch.cuda.is_available() else 'cpu')"
      ]
    },
    {
      "cell_type": "markdown",
      "id": "a272855a-cca5-4a9e-b96b-84af270fae60",
      "metadata": {
        "id": "a272855a-cca5-4a9e-b96b-84af270fae60"
      },
      "source": [
        "Add the data path"
      ]
    },
    {
      "cell_type": "code",
      "execution_count": 8,
      "id": "a573e466-40f0-41a8-adcc-7015cb657a41",
      "metadata": {
        "id": "a573e466-40f0-41a8-adcc-7015cb657a41"
      },
      "outputs": [],
      "source": [
        "path = \"/content/dataset_ex3\" # you can change the path if you want to store the dataset somewhere else."
      ]
    },
    {
      "cell_type": "code",
      "execution_count": 9,
      "id": "ee8a919c-72cb-4472-a101-90df507c5a06",
      "metadata": {
        "id": "ee8a919c-72cb-4472-a101-90df507c5a06"
      },
      "outputs": [],
      "source": [
        "# Do not delete this cell"
      ]
    },
    {
      "cell_type": "code",
      "execution_count": 10,
      "id": "6403efef-8583-4c83-bcd8-efe439d40ab3",
      "metadata": {
        "id": "6403efef-8583-4c83-bcd8-efe439d40ab3"
      },
      "outputs": [],
      "source": [
        "def prepare_file_list(path, validation_split):\n",
        "\n",
        "    audio_class_names = ['music', 'speech']\n",
        "    data_directories = {'music': path + '/music_wav',\n",
        "                        'speech': path + '/speech_wav'}\n",
        "\n",
        "    audio_files = {class_name: [] for class_name in audio_class_names}\n",
        "    for class_name in audio_class_names:\n",
        "        folder = data_directories[class_name]\n",
        "        filelist = os.listdir(folder)\n",
        "        for filename in filelist:\n",
        "            if filename.endswith('.wav'):\n",
        "                audio_files[class_name].append(os.path.join(folder, filename))\n",
        "\n",
        "    np.random.seed(1)\n",
        "    dataset_split = {'train': [], 'val': []}\n",
        "    for class_id, class_name in enumerate(audio_class_names):\n",
        "        n_data = len(audio_files[class_name])\n",
        "        random_indices = np.random.permutation(n_data)\n",
        "        n_validation = int(validation_split * n_data)\n",
        "        val_indices = random_indices[:n_validation]\n",
        "        train_indices = random_indices[n_validation:]\n",
        "        dataset_split['train'] += [(audio_files[class_name][k], class_id) for k in train_indices]\n",
        "        dataset_split['val'] += [(audio_files[class_name][k], class_id) for k in val_indices]\n",
        "    return dataset_split"
      ]
    },
    {
      "cell_type": "code",
      "execution_count": 11,
      "id": "f93ec9a3-ae6d-46ee-952b-4ebfe9f7672b",
      "metadata": {
        "id": "f93ec9a3-ae6d-46ee-952b-4ebfe9f7672b"
      },
      "outputs": [],
      "source": [
        "class MSDataset(torch.utils.data.Dataset):\n",
        "\n",
        "    def __init__(self, filelist, sample_sec=5., is_train=True):\n",
        "        self.filelist = filelist\n",
        "        self.time_duration = sample_sec\n",
        "        self.is_train = is_train\n",
        "\n",
        "        _, sf = librosa.load(filelist[0][0], sr = None)\n",
        "        self.sf = sf\n",
        "        self.n_features = int(self.time_duration * sf)\n",
        "\n",
        "    def __len__(self):\n",
        "        return len(self.filelist)\n",
        "\n",
        "    def __getitem__(self, i):\n",
        "        audio_file, class_id = self.filelist[i]\n",
        "        x, sf = librosa.load(audio_file, sr = None)\n",
        "        k = 0\n",
        "\n",
        "        x = torch.from_numpy(x[k:k+self.n_features]).reshape(1,-1)\n",
        "\n",
        "        return x, class_id"
      ]
    },
    {
      "cell_type": "markdown",
      "id": "f123f574-62c2-48ef-af6e-66dac5187107",
      "metadata": {
        "id": "f123f574-62c2-48ef-af6e-66dac5187107"
      },
      "source": [
        "### Training and validation loops:\n",
        "\n",
        "Fill in the blanks as instructed in the code.\n",
        "\n",
        "**Hint:** Replace the next cell with the training and validation loops from your solution to Task 1 in the ex3_01_base_model.ipynb file."
      ]
    },
    {
      "cell_type": "code",
      "execution_count": 23,
      "id": "6b731df9-5f30-4168-a749-fe8607ad3856",
      "metadata": {
        "id": "6b731df9-5f30-4168-a749-fe8607ad3856"
      },
      "outputs": [],
      "source": [
        "def training_loop(n_epochs, optim, model, loss_fn, dl_train, dl_val, hist=None):\n",
        "    np.random.seed(1)\n",
        "    if hist is not None:\n",
        "        pass\n",
        "    else:\n",
        "        hist = {'train_loss': [], 'train_accuracy': [], 'val_loss': [], 'val_accuracy': []}\n",
        "\n",
        "    best_accuracy = 0\n",
        "    t_initial = time.time()\n",
        "\n",
        "    for epoch in range(1, n_epochs + 1):\n",
        "        start = time.time()\n",
        "        train_loss, train_accuracy = 0., 0.\n",
        "        num_samples = 0\n",
        "\n",
        "        for input_batch, target_batch in dl_train:\n",
        "               # 2. Make the prediction on the data\n",
        "            input_batch, target_batch = input_batch.to(device), target_batch.to(device)\n",
        "\n",
        "            predictions = model(input_batch)\n",
        "\n",
        "            # 3. Calculate loss\n",
        "            loss_train = loss_fn(predictions, target_batch)\n",
        "\n",
        "            # 4. Set optimizer to zero grad\n",
        "            optim.zero_grad()\n",
        "\n",
        "            # 5. Do backward pass\n",
        "            loss_train.backward()\n",
        "\n",
        "            # 6. Move the optimizer one step forward\n",
        "            optim.step()\n",
        "            # YOUR CODE HERE\n",
        "\n",
        "            # accumulate correct prediction\n",
        "            train_accuracy += (torch.argmax(predictions.detach(), dim=1) == target_batch).sum().item() # number of correct predictions\n",
        "            train_loss += loss_train.item() * input_batch.shape[0]\n",
        "            num_samples += input_batch.shape[0]\n",
        "\n",
        "        train_loss /= num_samples\n",
        "        train_accuracy /= num_samples\n",
        "        val_loss, val_accuracy = validation_loop(model, loss_fn, dl_val)\n",
        "\n",
        "        end = time.time()\n",
        "        epoch_time = round(end - start, 2)\n",
        "        if epoch <= 5 or epoch % 10 == 0 or epoch == n_epochs:\n",
        "             print(f'Epoch {epoch}, train_loss {train_loss:.2f}, train_accuracy: {train_accuracy:.4f}, '\n",
        "                   f'val_loss {val_loss:.2f}, val_accuracy: {val_accuracy:.4f}, time = {epoch_time}')\n",
        "\n",
        "        # record for history return\n",
        "        hist['train_loss'].append(train_loss)\n",
        "        hist['val_loss'].append(val_loss)\n",
        "        hist['train_accuracy'].append(train_accuracy)\n",
        "        hist['val_accuracy'].append(val_accuracy)\n",
        "\n",
        "    t_final = time.time()\n",
        "    t_total = round(t_final - t_initial, 2)\n",
        "    minutes = int(t_total // 60)\n",
        "    seconds = int(t_total % 60)\n",
        "    print(f'Finished training_loop() within {minutes} minutes and {seconds} seconds')\n",
        "    return hist\n",
        "\n",
        "def validation_loop(model, loss_fn, dataloader):\n",
        "    model.eval()\n",
        "    with torch.no_grad():\n",
        "        total_loss, total_accuracy, num_samples = 0., 0., 0.\n",
        "\n",
        "        for input_batch, target_batch in dataloader:\n",
        "                 # 1. Set input batch and target batch to the correct device\n",
        "            input_batch, target_batch = input_batch.to(device), target_batch.to(device)\n",
        "\n",
        "            # 2. Make the prediction on the input batch\n",
        "            predictions = model(input_batch)\n",
        "\n",
        "            # 3. Calculate loss and add it to previous loss\n",
        "            loss = loss_fn(predictions, target_batch)\n",
        "            total_loss += loss.item()\n",
        "\n",
        "            # 4. Obtain predicted class labels from predictions (hint: use torch.argmax)\n",
        "            predicted_classes = torch.argmax(predictions, dim=1)\n",
        "            # YOUR CODE HERE\n",
        "            ###\n",
        "\n",
        "            total_accuracy += (predicted_classes == target_batch).sum().item()\n",
        "            num_samples += len(target_batch)\n",
        "\n",
        "    average_loss = total_loss / num_samples\n",
        "    average_accuracy = total_accuracy / num_samples\n",
        "\n",
        "    return average_loss, average_accuracy\n",
        "\n",
        "def plot_history(history):\n",
        "    fig, axes = plt.subplots(1, 2, figsize=(16, 6))\n",
        "    axes[0].set_title('Loss')\n",
        "    axes[0].plot(history['train_loss'], label='Train')\n",
        "    axes[0].plot(history['val_loss'], label='Validation')\n",
        "    axes[0].legend()\n",
        "\n",
        "    max_val_accuracy = max(history['val_accuracy'])\n",
        "    axes[1].set_title(f'Accuracy (Best: {max_val_accuracy:.2f})')\n",
        "    axes[1].plot(history['train_accuracy'], label='Train')\n",
        "    axes[1].plot(history['val_accuracy'], label='Validation')\n",
        "    axes[1].legend()"
      ]
    },
    {
      "cell_type": "markdown",
      "id": "13718aa0-f3db-4d9e-9f29-d29b3afaaa1e",
      "metadata": {
        "id": "13718aa0-f3db-4d9e-9f29-d29b3afaaa1e"
      },
      "source": [
        "### Model Architecture:\n",
        "\n",
        "Fill in the blanks as instructed in the code to design the model architecture similar to the base model but with four convolutional blocks, where the number of filters (channels) in each convolutional layer is set to 128.\n"
      ]
    },
    {
      "cell_type": "code",
      "execution_count": 26,
      "id": "4ebe5693-be7a-4fa6-bad9-0dc1c5158593",
      "metadata": {
        "id": "4ebe5693-be7a-4fa6-bad9-0dc1c5158593"
      },
      "outputs": [],
      "source": [
        "class BasicBlock(nn.Module):\n",
        "    def __init__(self, in_channels, out_channels, nonlin=\"Tanh\"):\n",
        "        super().__init__()\n",
        "        self.conv_layer = nn.Conv1d(in_channels=in_channels,\n",
        "                                    out_channels=out_channels,\n",
        "                                    kernel_size=11,\n",
        "                                    stride=5)\n",
        "        if nonlin == \"ELU\":\n",
        "            self.activation_fn = nn.ELU()\n",
        "        elif nonlin == \"ReLU\":\n",
        "            self.activation_fn = nn.ReLU()\n",
        "        elif nonlin == \"Tanh\":\n",
        "            self.activation_fn = nn.Tanh()\n",
        "\n",
        "    def forward(self, x):\n",
        "        x = self.conv_layer(x)\n",
        "        x = self.activation_fn(x)\n",
        "        return x\n",
        "class MyModel(nn.Module):\n",
        "    def __init__(self, nonlin =\"Tanh\"):\n",
        "        super().__init__()\n",
        "\n",
        "        #Create the first hidden layer using BasicBlock\n",
        "        self.hidden1 = BasicBlock(in_channels=1, out_channels=128, nonlin=nonlin)\n",
        "\n",
        "        # 2. Create the second hidden layer using BasicBlock\n",
        "        self.hidden2 = BasicBlock(in_channels=128, out_channels=128, nonlin=nonlin)\n",
        "\n",
        "         # 2. Create the second hidden layer using BasicBlock\n",
        "        self.hidden3 = BasicBlock(in_channels=128, out_channels=128, nonlin=nonlin)\n",
        "\n",
        "        # 3. Create the third hidden layer using BasicBlock\n",
        "        self.hidden4 = BasicBlock(in_channels=128, out_channels=2, nonlin=nonlin)\n",
        "\n",
        "        # 4. Create a global average pooling layer to reduce the spatial dimensions\n",
        "        self.avgpool = nn.AdaptiveAvgPool1d(output_size=1)\n",
        "\n",
        "        # Create a flattening layer to flatten the output for the final layer\n",
        "        self.flatten = nn.Flatten()\n",
        "\n",
        "        #. Set the output activation function for classification\n",
        "        self.output_activation = nn.LogSoftmax(dim=1)  # Assuming binary classification\n",
        "\n",
        "        # YOUR CODE HERE\n",
        "\n",
        "\n",
        "    def forward(self, x):\n",
        "        # your code here for calling layers\n",
        "             # 1. Pass the input through the first hidden layer\n",
        "        x = self.hidden1(x)\n",
        "\n",
        "        # 2. Pass the output to the second hidden layer\n",
        "        x = self.hidden2(x)\n",
        "\n",
        "        x = self.hidden3(x)\n",
        "\n",
        "        # 3. Pass the output to the third hidden layer\n",
        "        x = self.hidden4(x)\n",
        "\n",
        "        # 4. Apply global average pooling to reduce dimensions\n",
        "        x = self.avgpool(x)\n",
        "\n",
        "        # 5. Flatten the pooled output\n",
        "        x = self.flatten(x)\n",
        "\n",
        "        # 6. Apply the output activation function to get the final predictions\n",
        "        x = self.output_activation(x)\n",
        "\n",
        "\n",
        "        return x\n",
        "\n",
        "def get_num_trainable_parameters(model):\n",
        "    num_params = sum(p.numel() for p in model.parameters() if p.requires_grad)\n",
        "    print(f'The model has {num_params} trainable parameters.')\n",
        "    return num_params"
      ]
    },
    {
      "cell_type": "markdown",
      "id": "4f5301c5-a1c2-4db8-968b-2ed5fe38320a",
      "metadata": {
        "id": "4f5301c5-a1c2-4db8-968b-2ed5fe38320a"
      },
      "source": [
        "Run the cell below to verify the correctness of your model architecture solution."
      ]
    },
    {
      "cell_type": "code",
      "execution_count": 27,
      "id": "40155de5-7812-41f2-af12-06ac1924bd4c",
      "metadata": {
        "colab": {
          "base_uri": "https://localhost:8080/"
        },
        "id": "40155de5-7812-41f2-af12-06ac1924bd4c",
        "outputId": "40c06460-93bf-467d-aa0b-f81bbd00439f"
      },
      "outputs": [
        {
          "output_type": "stream",
          "name": "stdout",
          "text": [
            "The model has 365058 trainable parameters.\n",
            "\u001b[92mGood job! All visible tests passed! You can proceed further.\u001b[0m\n"
          ]
        }
      ],
      "source": [
        "# Visible tests here\n",
        "all_tests_successful = True\n",
        "model = MyModel(\"Tanh\")\n",
        "dummy_input = torch.randn(1, 1, 22000)\n",
        "dummy_output = model(dummy_input)\n",
        "\n",
        "# Count the number of Conv1d layers and check their channels\n",
        "conv1d_layers = [layer for layer in model.modules() if isinstance(layer, nn.Conv1d)]\n",
        "conv1d_count = len(conv1d_layers)\n",
        "\n",
        "# Test the number of Conv1d layers\n",
        "if conv1d_count != 4:\n",
        "    all_tests_successful = False\n",
        "    raise AssertionError(f\"Expected 3 Conv1d layers, got {conv1d_count}.\")\n",
        "\n",
        "expected_channels = [128, 128, 128, 2]  # Expected output channels for the three layers\n",
        "\n",
        "for i, layer in enumerate(conv1d_layers):\n",
        "    if layer.out_channels != expected_channels[i]:\n",
        "        all_tests_successful = False\n",
        "        raise AssertionError(f\"Conv1d layer {i + 1} does not have {expected_channels[i]} filters (channels). It has {layer.out_channels} filters.\")\n",
        "\n",
        "# Check the output shape\n",
        "expected_shape = (1, 2)\n",
        "if dummy_output.shape != expected_shape:\n",
        "    all_tests_successful = False\n",
        "    raise AssertionError(f\"Expected output shape {expected_shape}, but got {dummy_output.shape}.\")\n",
        "\n",
        "# Chech the number of trainable parameters\n",
        "num_params = get_num_trainable_parameters(model)\n",
        "expected_num_parameters = 365058\n",
        "if num_params != expected_num_parameters:\n",
        "    all_tests_successful = False\n",
        "    raise AssertionError(f\"Expected number of trainable parameters {expected_num_parameters}, but got {num_params}.\")\n",
        "\n",
        "# Check the output range for LogSoftmax (should be <= 0)\n",
        "if not torch.all(dummy_output <= 0):\n",
        "    all_tests_successful = False\n",
        "    raise AssertionError(\"The output values are not within the expected range (-∞, 0]. LogSoftmax might be missing.\")\n",
        "\n",
        "if all_tests_successful:\n",
        "    success_str = \"Good job! All visible tests passed! You can proceed further.\"\n",
        "    print(f\"\\033[92m{success_str}\\033[0m\")"
      ]
    },
    {
      "cell_type": "markdown",
      "id": "c42495d8-8267-422d-8fd3-fe476c97287c",
      "metadata": {
        "id": "c42495d8-8267-422d-8fd3-fe476c97287c"
      },
      "source": [
        "### Train and Validate\n",
        "\n",
        "Now, run the cell below to train and validate the model with the \"ReLU\" non-linearity, using Adam optimizer with lr = 0.0001.\n",
        "\n",
        "Compare the results with those from the base model in Task 1, and observe how increasing the number of convolutional layers and filters affects the model's performance on the training and validation splits. Additionally, note how this change impacts the number of training parameters and the training time.\n",
        "\n",
        "Repeat the training several times. Do you observe any patterns of instability or overfitting?"
      ]
    },
    {
      "cell_type": "code",
      "execution_count": 28,
      "id": "14d64998-0b0c-40c2-b344-ee8c4ce4c74b",
      "metadata": {
        "colab": {
          "base_uri": "https://localhost:8080/",
          "height": 1000
        },
        "id": "14d64998-0b0c-40c2-b344-ee8c4ce4c74b",
        "outputId": "6da90041-e181-4717-86fa-f23abc409918"
      },
      "outputs": [
        {
          "output_type": "stream",
          "name": "stdout",
          "text": [
            "The model has 365058 trainable parameters.\n",
            "Epoch 1, train_loss 0.72, train_accuracy: 0.5000, val_loss 0.09, val_accuracy: 0.5000, time = 2.16\n",
            "Epoch 2, train_loss 0.69, train_accuracy: 0.5000, val_loss 0.09, val_accuracy: 0.5000, time = 0.63\n",
            "Epoch 3, train_loss 0.69, train_accuracy: 0.5000, val_loss 0.09, val_accuracy: 0.5000, time = 0.64\n",
            "Epoch 4, train_loss 0.69, train_accuracy: 0.5000, val_loss 0.09, val_accuracy: 0.5000, time = 0.63\n",
            "Epoch 5, train_loss 0.69, train_accuracy: 0.5000, val_loss 0.09, val_accuracy: 0.5000, time = 0.6\n",
            "Epoch 10, train_loss 0.69, train_accuracy: 0.5000, val_loss 0.09, val_accuracy: 0.5000, time = 0.63\n",
            "Epoch 20, train_loss 0.69, train_accuracy: 0.5000, val_loss 0.09, val_accuracy: 0.5000, time = 0.62\n",
            "Epoch 30, train_loss 0.66, train_accuracy: 0.5000, val_loss 0.09, val_accuracy: 0.5000, time = 0.61\n",
            "Epoch 40, train_loss 0.64, train_accuracy: 0.5000, val_loss 0.09, val_accuracy: 0.5000, time = 0.62\n",
            "Epoch 50, train_loss 0.62, train_accuracy: 0.6333, val_loss 0.09, val_accuracy: 0.5526, time = 0.61\n",
            "Epoch 60, train_loss 0.58, train_accuracy: 0.6889, val_loss 0.08, val_accuracy: 0.6579, time = 0.65\n",
            "Epoch 70, train_loss 0.52, train_accuracy: 0.7111, val_loss 0.08, val_accuracy: 0.6842, time = 0.63\n",
            "Epoch 80, train_loss 0.48, train_accuracy: 0.7667, val_loss 0.08, val_accuracy: 0.6579, time = 0.61\n",
            "Epoch 90, train_loss 0.44, train_accuracy: 0.7889, val_loss 0.08, val_accuracy: 0.6316, time = 0.69\n",
            "Epoch 100, train_loss 0.40, train_accuracy: 0.8222, val_loss 0.07, val_accuracy: 0.6579, time = 0.62\n",
            "Epoch 110, train_loss 0.37, train_accuracy: 0.8222, val_loss 0.07, val_accuracy: 0.6842, time = 0.77\n",
            "Epoch 120, train_loss 0.33, train_accuracy: 0.8444, val_loss 0.07, val_accuracy: 0.7368, time = 0.6\n",
            "Epoch 130, train_loss 0.30, train_accuracy: 0.8889, val_loss 0.07, val_accuracy: 0.7105, time = 0.77\n",
            "Epoch 140, train_loss 0.28, train_accuracy: 0.8889, val_loss 0.07, val_accuracy: 0.7105, time = 0.61\n",
            "Epoch 150, train_loss 0.25, train_accuracy: 0.9000, val_loss 0.07, val_accuracy: 0.7105, time = 0.77\n",
            "Epoch 160, train_loss 0.22, train_accuracy: 0.9111, val_loss 0.07, val_accuracy: 0.7105, time = 0.61\n",
            "Epoch 170, train_loss 0.20, train_accuracy: 0.9333, val_loss 0.07, val_accuracy: 0.7368, time = 0.75\n",
            "Epoch 180, train_loss 0.17, train_accuracy: 0.9444, val_loss 0.07, val_accuracy: 0.7368, time = 0.61\n",
            "Epoch 190, train_loss 0.15, train_accuracy: 0.9556, val_loss 0.07, val_accuracy: 0.7368, time = 0.79\n",
            "Epoch 200, train_loss 0.14, train_accuracy: 0.9778, val_loss 0.07, val_accuracy: 0.7632, time = 0.63\n",
            "Epoch 210, train_loss 0.12, train_accuracy: 0.9778, val_loss 0.07, val_accuracy: 0.7632, time = 0.79\n",
            "Epoch 220, train_loss 0.11, train_accuracy: 0.9778, val_loss 0.07, val_accuracy: 0.7895, time = 0.61\n",
            "Epoch 230, train_loss 0.10, train_accuracy: 0.9778, val_loss 0.07, val_accuracy: 0.7895, time = 0.8\n",
            "Epoch 240, train_loss 0.09, train_accuracy: 0.9778, val_loss 0.07, val_accuracy: 0.7895, time = 0.62\n",
            "Epoch 250, train_loss 0.08, train_accuracy: 0.9778, val_loss 0.08, val_accuracy: 0.7895, time = 0.69\n",
            "Epoch 260, train_loss 0.07, train_accuracy: 0.9778, val_loss 0.08, val_accuracy: 0.8158, time = 0.6\n",
            "Epoch 270, train_loss 0.07, train_accuracy: 0.9778, val_loss 0.08, val_accuracy: 0.8158, time = 0.64\n",
            "Epoch 280, train_loss 0.06, train_accuracy: 0.9778, val_loss 0.08, val_accuracy: 0.8158, time = 0.61\n",
            "Epoch 290, train_loss 0.06, train_accuracy: 0.9889, val_loss 0.09, val_accuracy: 0.8158, time = 0.63\n",
            "Epoch 300, train_loss 0.05, train_accuracy: 0.9889, val_loss 0.09, val_accuracy: 0.8158, time = 0.62\n",
            "Finished training_loop() within 3 minutes and 13 seconds\n"
          ]
        },
        {
          "output_type": "display_data",
          "data": {
            "text/plain": [
              "<Figure size 1600x600 with 2 Axes>"
            ],
            "image/png": "[encoded data removed]"
          },
          "metadata": {}
        }
      ],
      "source": [
        "# data\n",
        "np.random.seed(1)\n",
        "valsplit = 0.30\n",
        "file_list =  prepare_file_list(path, valsplit)\n",
        "sample_sec = 2\n",
        "batch_size = 8\n",
        "data_loader = {tv: torch.utils.data.DataLoader(MSDataset(file_list[tv], sample_sec=sample_sec, is_train=tv=='train'),\n",
        "                                               batch_size=batch_size,\n",
        "                                               shuffle=False) for tv in ['train', 'val']}\n",
        "\n",
        "# model\n",
        "model = MyModel(\"ReLU\").to(device)\n",
        "num_params = get_num_trainable_parameters(model)\n",
        "\n",
        "# optimizer\n",
        "learning_rate = 0.0001\n",
        "optimizer = torch.optim.Adam(model.parameters(), lr=learning_rate)\n",
        "\n",
        "# loss\n",
        "criterion = nn.CrossEntropyLoss().to(device)\n",
        "\n",
        "# history\n",
        "history = None\n",
        "if not skip_training:\n",
        "    history = training_loop(300, optimizer, model, criterion, data_loader['train'], data_loader['val'], history)\n",
        "    torch.save(model.state_dict(), 'model.pth')\n",
        "    plot_history(history)"
      ]
    },
    {
      "cell_type": "markdown",
      "id": "1e2f1330-1151-45de-a3c5-96fee4f70d7e",
      "metadata": {
        "id": "1e2f1330-1151-45de-a3c5-96fee4f70d7e"
      },
      "source": [
        "### Task 4.1: Experiment with normalization layers\n",
        "\n",
        "Add a batch normalization layer after the convolution layer and before applying the non-linearity function. Train the model, monitor the behavior of the training and validation curves, and observe how the normalization layer affects the validation performance.\n",
        "\n",
        "Save the model as **'normalized_model.pth'** and submit it to Moodle along with your other files.\n"
      ]
    },
    {
      "cell_type": "code",
      "execution_count": 29,
      "id": "ebee7e12",
      "metadata": {
        "id": "ebee7e12"
      },
      "outputs": [],
      "source": [
        "class BasicBlock(nn.Module):\n",
        "    def __init__(self, in_channels, out_channels, nonlin=\"Tanh\"):\n",
        "        super().__init__()\n",
        "        self.conv_layer = nn.Conv1d(in_channels=in_channels,\n",
        "                                    out_channels=out_channels,\n",
        "                                    kernel_size=11,\n",
        "                                    stride=5)\n",
        "        self.bn = nn.BatchNorm1d(out_channels)\n",
        "        if nonlin == \"ELU\":\n",
        "            self.activation_fn = nn.ELU()\n",
        "        elif nonlin == \"ReLU\":\n",
        "            self.activation_fn = nn.ReLU()\n",
        "        elif nonlin == \"Tanh\":\n",
        "            self.activation_fn = nn.Tanh()\n",
        "\n",
        "    def forward(self, x):\n",
        "        x = self.conv_layer(x)\n",
        "        x = self.bn(x)\n",
        "        x = self.activation_fn(x)\n",
        "        return x\n",
        "    # YOUR CODE HERE\n",
        "\n",
        "class MyModel(nn.Module):\n",
        "    def __init__(self, nonlin =\"Tanh\"):\n",
        "        super().__init__()\n",
        "\n",
        "        #Create the first hidden layer using BasicBlock\n",
        "        self.Hidden_1 = BasicBlock(in_channels=1, out_channels=128, nonlin=nonlin)\n",
        "\n",
        "        # 2. Create the second hidden layer using BasicBlock\n",
        "        self.Hidden_2 = BasicBlock(in_channels=128, out_channels=128, nonlin=nonlin)\n",
        "\n",
        "         # 2. Create the second hidden layer using BasicBlock\n",
        "        self.Hidden_3 = BasicBlock(in_channels=128, out_channels=128, nonlin=nonlin)\n",
        "\n",
        "        # 3. Create the third hidden layer using BasicBlock\n",
        "        self.Hidden_4 = BasicBlock(in_channels=128, out_channels=2, nonlin=nonlin)\n",
        "\n",
        "        # 4. Create a global average pooling layer to reduce the spatial dimensions\n",
        "        self.avgpool = nn.AdaptiveAvgPool1d(output_size=1)\n",
        "\n",
        "        # Create a flattening layer to flatten the output for the final layer\n",
        "        self.flatten = nn.Flatten()\n",
        "\n",
        "        #. Set the output activation function for classification\n",
        "        self.output_activation = nn.LogSoftmax(dim=1)  # Assuming binary classification\n",
        "\n",
        "        # YOUR CODE HERE\n",
        "\n",
        "\n",
        "    def forward(self, x):\n",
        "        # your code here for calling layers\n",
        "             # 1. Pass the input through the first hidden layer\n",
        "        x = self.Hidden_1(x)\n",
        "\n",
        "        # 2. Pass the output to the second hidden layer\n",
        "        x = self.Hidden_2(x)\n",
        "\n",
        "        x = self.Hidden_3(x)\n",
        "\n",
        "        # 3. Pass the output to the third hidden layer\n",
        "        x = self.Hidden_4(x)\n",
        "\n",
        "        # 4. Apply global average pooling to reduce dimensions\n",
        "        x = self.avgpool(x)\n",
        "\n",
        "        # 5. Flatten the pooled output\n",
        "        x = self.flatten(x)\n",
        "\n",
        "        # 6. Apply the output activation function to get the final predictions\n",
        "        x = self.output_activation(x)\n",
        "\n",
        "        return x\n",
        "\n",
        "def get_num_trainable_parameters(model):\n",
        "    num_params = sum(p.numel() for p in model.parameters() if p.requires_grad)\n",
        "    print(f'The model has {num_params} trainable parameters.')\n",
        "    return num_params"
      ]
    },
    {
      "cell_type": "markdown",
      "id": "6a1c6945-5ca4-4729-88df-1da10f700864",
      "metadata": {
        "id": "6a1c6945-5ca4-4729-88df-1da10f700864"
      },
      "source": [
        "Run the cell below to verify the correctness of your model architecture solution."
      ]
    },
    {
      "cell_type": "code",
      "execution_count": 30,
      "id": "924050b8-c97b-4181-b037-87e91ab41ae2",
      "metadata": {
        "id": "924050b8-c97b-4181-b037-87e91ab41ae2",
        "colab": {
          "base_uri": "https://localhost:8080/"
        },
        "outputId": "79b40f72-3cf6-49e3-aabb-abe7aea1f224"
      },
      "outputs": [
        {
          "output_type": "stream",
          "name": "stdout",
          "text": [
            "\u001b[92mGood job! All visible tests passed! You can proceed further.\u001b[0m\n"
          ]
        }
      ],
      "source": [
        "# Visible tests here\n",
        "all_tests_successful = True\n",
        "model = MyModel(\"ReLU\")\n",
        "dummy_input = torch.randn(1, 1, 22000)\n",
        "\n",
        "# Dictionary to hold the execution order of each BasicBlock's layers\n",
        "layer_execution_order = {}\n",
        "# Function to capture forward pass order of layers within each BasicBlock\n",
        "def track_execution_order(module, input, output, name):\n",
        "    layer_types = []\n",
        "    for sub_module in module.children():  # Iterate through layers within BasicBlock\n",
        "        layer_types.append(type(sub_module))\n",
        "    layer_execution_order[name] = layer_types\n",
        "\n",
        "# Register hooks on each BasicBlock to capture layer order in forward pass\n",
        "for name, module in model.named_modules():\n",
        "    if isinstance(module, BasicBlock):\n",
        "        module.register_forward_hook(lambda mod, inp, out, n=name: track_execution_order(mod, inp, out, n))\n",
        "\n",
        "# Run the model forward pass to trigger hooks\n",
        "dummy_output = model(dummy_input)\n",
        "\n",
        "# Define the expected order of layer types for BasicBlock\n",
        "expected_order = [nn.Conv1d, nn.BatchNorm1d, nn.ReLU]\n",
        "\n",
        "# Check if each BasicBlock followed the expected order\n",
        "for name, order in layer_execution_order.items():\n",
        "    # Modify expected_order based on the chosen activation in model\n",
        "    current_expected_order = expected_order[:]\n",
        "    activation_fn_type = type(model.Hidden_1.activation_fn)  # Get the actual activation type\n",
        "    current_expected_order[-1] = activation_fn_type\n",
        "\n",
        "    if order != current_expected_order:\n",
        "        all_tests_successful = False\n",
        "        raise AssertionError(\n",
        "            f\"{name} layer order incorrect. Expected {[cls.__name__ for cls in current_expected_order]} \"\n",
        "            f\"but got {[cls.__name__ for cls in order]}.\"\n",
        "        )\n",
        "\n",
        "# Check output shape and range for LogSoftmax\n",
        "expected_shape = (1, 2)\n",
        "if dummy_output.shape != expected_shape:\n",
        "    all_tests_successful = False\n",
        "    raise AssertionError(f\"Expected output shape {expected_shape}, got {dummy_output.shape}.\")\n",
        "if not torch.all(dummy_output <= 0):\n",
        "    all_tests_successful = False\n",
        "    raise AssertionError(\"The output values are not within the expected range (-∞, 0]. LogSoftmax might be missing.\")\n",
        "\n",
        "# Final success message if all tests pass\n",
        "if all_tests_successful:\n",
        "    success_str = \"Good job! All visible tests passed! You can proceed further.\"\n",
        "    print(f\"\\033[92m{success_str}\\033[0m\")"
      ]
    },
    {
      "cell_type": "markdown",
      "id": "7348a88a-7021-436f-bc2a-0d8f64ac57d7",
      "metadata": {
        "id": "7348a88a-7021-436f-bc2a-0d8f64ac57d7"
      },
      "source": [
        "### Train and Validate\n",
        "\n",
        "Now, run the cell below to train and validate the model with the \"ReLU\" non-linearity, using Adam optimizer with lr = 0.0001.\n",
        "\n",
        "Repeat the training several times and compare the results with the model without the normalization layers. . Do you observe any changed with the patterns of instability or overfitting?\n",
        "\n",
        "Remember to save the model as **'normalized_model.pth'** and submit it to Moodle along with your other files.\n"
      ]
    },
    {
      "cell_type": "code",
      "execution_count": 31,
      "id": "63fe4abf-fa36-4db4-a4e3-34745fae4506",
      "metadata": {
        "id": "63fe4abf-fa36-4db4-a4e3-34745fae4506",
        "colab": {
          "base_uri": "https://localhost:8080/",
          "height": 1000
        },
        "outputId": "35b77cc7-9e2c-48ec-c495-165f41f1fc2e"
      },
      "outputs": [
        {
          "output_type": "stream",
          "name": "stdout",
          "text": [
            "The model has 365830 trainable parameters.\n",
            "Epoch 1, train_loss 0.69, train_accuracy: 0.5333, val_loss 0.09, val_accuracy: 0.5000, time = 0.91\n",
            "Epoch 2, train_loss 0.77, train_accuracy: 0.1889, val_loss 0.09, val_accuracy: 0.5000, time = 0.71\n",
            "Epoch 3, train_loss 0.70, train_accuracy: 0.5000, val_loss 0.09, val_accuracy: 0.5000, time = 0.65\n",
            "Epoch 4, train_loss 0.69, train_accuracy: 0.5222, val_loss 0.09, val_accuracy: 0.5789, time = 0.66\n",
            "Epoch 5, train_loss 0.69, train_accuracy: 0.5000, val_loss 0.09, val_accuracy: 0.5000, time = 0.63\n",
            "Epoch 10, train_loss 0.69, train_accuracy: 0.5000, val_loss 0.09, val_accuracy: 0.5263, time = 0.79\n",
            "Epoch 20, train_loss 0.68, train_accuracy: 0.6222, val_loss 0.09, val_accuracy: 0.6579, time = 0.64\n",
            "Epoch 30, train_loss 0.63, train_accuracy: 0.6889, val_loss 0.08, val_accuracy: 0.7105, time = 0.81\n",
            "Epoch 40, train_loss 0.56, train_accuracy: 0.7222, val_loss 0.07, val_accuracy: 0.7105, time = 0.63\n",
            "Epoch 50, train_loss 0.47, train_accuracy: 0.7889, val_loss 0.06, val_accuracy: 0.7105, time = 0.64\n",
            "Epoch 60, train_loss 0.41, train_accuracy: 0.8222, val_loss 0.06, val_accuracy: 0.7632, time = 0.62\n",
            "Epoch 70, train_loss 0.37, train_accuracy: 0.8333, val_loss 0.06, val_accuracy: 0.7632, time = 0.62\n",
            "Epoch 80, train_loss 0.34, train_accuracy: 0.8778, val_loss 0.05, val_accuracy: 0.7895, time = 0.65\n",
            "Epoch 90, train_loss 0.30, train_accuracy: 0.8889, val_loss 0.05, val_accuracy: 0.8158, time = 0.62\n",
            "Epoch 100, train_loss 0.26, train_accuracy: 0.9000, val_loss 0.04, val_accuracy: 0.8421, time = 0.63\n",
            "Epoch 110, train_loss 0.22, train_accuracy: 0.9222, val_loss 0.04, val_accuracy: 0.8421, time = 0.63\n",
            "Epoch 120, train_loss 0.18, train_accuracy: 0.9556, val_loss 0.04, val_accuracy: 0.8421, time = 0.64\n",
            "Epoch 130, train_loss 0.14, train_accuracy: 0.9778, val_loss 0.04, val_accuracy: 0.8684, time = 0.64\n",
            "Epoch 140, train_loss 0.10, train_accuracy: 0.9889, val_loss 0.04, val_accuracy: 0.8684, time = 0.62\n",
            "Epoch 150, train_loss 0.07, train_accuracy: 0.9889, val_loss 0.04, val_accuracy: 0.8684, time = 0.64\n",
            "Epoch 160, train_loss 0.05, train_accuracy: 0.9889, val_loss 0.05, val_accuracy: 0.8684, time = 0.63\n",
            "Epoch 170, train_loss 0.04, train_accuracy: 1.0000, val_loss 0.05, val_accuracy: 0.8684, time = 0.63\n",
            "Epoch 180, train_loss 0.03, train_accuracy: 1.0000, val_loss 0.05, val_accuracy: 0.8684, time = 0.77\n",
            "Epoch 190, train_loss 0.02, train_accuracy: 1.0000, val_loss 0.06, val_accuracy: 0.8684, time = 0.67\n",
            "Epoch 200, train_loss 0.01, train_accuracy: 1.0000, val_loss 0.06, val_accuracy: 0.8684, time = 0.87\n",
            "Epoch 210, train_loss 0.01, train_accuracy: 1.0000, val_loss 0.06, val_accuracy: 0.8684, time = 0.67\n",
            "Epoch 220, train_loss 0.01, train_accuracy: 1.0000, val_loss 0.07, val_accuracy: 0.8684, time = 0.65\n",
            "Epoch 230, train_loss 0.01, train_accuracy: 1.0000, val_loss 0.07, val_accuracy: 0.8684, time = 0.65\n",
            "Epoch 240, train_loss 0.01, train_accuracy: 1.0000, val_loss 0.07, val_accuracy: 0.8421, time = 0.65\n",
            "Epoch 250, train_loss 0.00, train_accuracy: 1.0000, val_loss 0.07, val_accuracy: 0.8421, time = 0.67\n",
            "Epoch 260, train_loss 0.00, train_accuracy: 1.0000, val_loss 0.08, val_accuracy: 0.8421, time = 0.66\n",
            "Epoch 270, train_loss 0.00, train_accuracy: 1.0000, val_loss 0.08, val_accuracy: 0.8421, time = 0.66\n",
            "Epoch 280, train_loss 0.00, train_accuracy: 1.0000, val_loss 0.08, val_accuracy: 0.8421, time = 0.65\n",
            "Epoch 290, train_loss 0.00, train_accuracy: 1.0000, val_loss 0.08, val_accuracy: 0.8421, time = 0.83\n",
            "Epoch 300, train_loss 0.00, train_accuracy: 1.0000, val_loss 0.08, val_accuracy: 0.8421, time = 0.66\n",
            "Finished training_loop() within 3 minutes and 22 seconds\n"
          ]
        },
        {
          "output_type": "display_data",
          "data": {
            "text/plain": [
              "<Figure size 1600x600 with 2 Axes>"
            ],
            "image/png": "[encoded data removed]"
          },
          "metadata": {}
        }
      ],
      "source": [
        "# data\n",
        "np.random.seed(1)\n",
        "valsplit = 0.30\n",
        "file_list =  prepare_file_list(path, valsplit)\n",
        "sample_sec = 2\n",
        "batch_size = 8\n",
        "data_loader = {tv: torch.utils.data.DataLoader(MSDataset(file_list[tv], sample_sec=sample_sec, is_train=tv=='train'),\n",
        "                                               batch_size=batch_size,\n",
        "                                               shuffle=False) for tv in ['train', 'val']}\n",
        "\n",
        "# model\n",
        "model = MyModel(\"ReLU\").to(device)\n",
        "num_params = get_num_trainable_parameters(model)\n",
        "\n",
        "# optimizer\n",
        "learning_rate = 0.0001\n",
        "optimizer = torch.optim.Adam(model.parameters(), lr=learning_rate)\n",
        "\n",
        "# loss\n",
        "criterion = nn.CrossEntropyLoss().to(device)\n",
        "\n",
        "# history\n",
        "history = None\n",
        "if not skip_training:\n",
        "    history = training_loop(300, optimizer, model, criterion, data_loader['train'], data_loader['val'], history)\n",
        "    torch.save(model.state_dict(), 'normalized_model.pth')\n",
        "    plot_history(history)"
      ]
    },
    {
      "cell_type": "code",
      "execution_count": 32,
      "id": "b99784f1-fa82-4745-bcc5-2a1b15263c75",
      "metadata": {
        "id": "b99784f1-fa82-4745-bcc5-2a1b15263c75"
      },
      "outputs": [],
      "source": [
        "# Do not delete this cell"
      ]
    },
    {
      "cell_type": "markdown",
      "id": "dd6a2969-aed5-4a16-a5de-f8b1b6cbe62e",
      "metadata": {
        "id": "dd6a2969-aed5-4a16-a5de-f8b1b6cbe62e"
      },
      "source": [
        "### Task 4.2: Experiment with dropout layers\n",
        "\n",
        "Keep the normalization layers and add a dropout layer as the last layer of the convolutional block.\n",
        "\n",
        "Train the model, monitor the behavior of the training and validation curves, and observe how the dropout layers affects the validation performance."
      ]
    },
    {
      "cell_type": "code",
      "execution_count": 42,
      "id": "8f03e716",
      "metadata": {
        "id": "8f03e716"
      },
      "outputs": [],
      "source": [
        "class BasicBlock(nn.Module):\n",
        "    def __init__(self, in_channels, out_channels, nonlin=\"Tanh\"):\n",
        "        super().__init__()\n",
        "        self.conv_layer = nn.Conv1d(in_channels=in_channels,\n",
        "                                    out_channels=out_channels,\n",
        "                                    kernel_size=11,\n",
        "                                    stride=5)\n",
        "        self.bn = nn.BatchNorm1d(out_channels)\n",
        "        if nonlin == \"ELU\":\n",
        "            self.activation_fn = nn.ELU()\n",
        "        elif nonlin == \"ReLU\":\n",
        "            self.activation_fn = nn.ReLU()\n",
        "        elif nonlin == \"Tanh\":\n",
        "            self.activation_fn = nn.Tanh()\n",
        "        self.dropout = nn.Dropout(p=0.5)\n",
        "\n",
        "    def forward(self, x):\n",
        "        x = self.conv_layer(x)\n",
        "        x = self.bn(x)\n",
        "        x = self.activation_fn(x)\n",
        "        x = self.dropout(x)\n",
        "        return x\n",
        "    # YOUR CODE HERE\n",
        "    # YOUR CODE HERE\n",
        "\n",
        "\n",
        "class MyModel(nn.Module):\n",
        "    def __init__(self, nonlin =\"Tanh\"):\n",
        "        super().__init__()\n",
        "\n",
        "        #Create the first hidden layer using BasicBlock\n",
        "        self.Hidden_1 = BasicBlock(in_channels=1, out_channels=128, nonlin=nonlin)\n",
        "\n",
        "        # 2. Create the second hidden layer using BasicBlock\n",
        "        self.Hidden_2 = BasicBlock(in_channels=128, out_channels=128, nonlin=nonlin)\n",
        "\n",
        "         # 2. Create the second hidden layer using BasicBlock\n",
        "        self.Hidden_3 = BasicBlock(in_channels=128, out_channels=128, nonlin=nonlin)\n",
        "\n",
        "        # 3. Create the third hidden layer using BasicBlock\n",
        "        self.Hidden_4 = BasicBlock(in_channels=128, out_channels=2, nonlin=nonlin)\n",
        "\n",
        "        # 4. Create a global average pooling layer to reduce the spatial dimensions\n",
        "        self.avgpool = nn.AdaptiveAvgPool1d(output_size=1)\n",
        "\n",
        "        # Create a flattening layer to flatten the output for the final layer\n",
        "        self.flatten = nn.Flatten()\n",
        "\n",
        "        #. Set the output activation function for classification\n",
        "        self.output_activation = nn.LogSoftmax(dim=1)  # Assuming binary classification\n",
        "\n",
        "        # YOUR CODE HERE\n",
        "\n",
        "\n",
        "    def forward(self, x):\n",
        "        # your code here for calling layers\n",
        "             # 1. Pass the input through the first hidden layer\n",
        "        x = self.Hidden_1(x)\n",
        "\n",
        "        # 2. Pass the output to the second hidden layer\n",
        "        x = self.Hidden_2(x)\n",
        "\n",
        "        x = self.Hidden_3(x)\n",
        "\n",
        "        # 3. Pass the output to the third hidden layer\n",
        "        x = self.Hidden_4(x)\n",
        "\n",
        "        # 4. Apply global average pooling to reduce dimensions\n",
        "        x = self.avgpool(x)\n",
        "\n",
        "        # 5. Flatten the pooled output\n",
        "        x = self.flatten(x)\n",
        "\n",
        "        # 6. Apply the output activation function to get the final predictions\n",
        "        x = self.output_activation(x)\n",
        "\n",
        "        return x\n",
        "\n",
        "def get_num_trainable_parameters(model):\n",
        "    num_params = sum(p.numel() for p in model.parameters() if p.requires_grad)\n",
        "    print(f'The model has {num_params} trainable parameters.')\n",
        "    return num_params"
      ]
    },
    {
      "cell_type": "markdown",
      "id": "e2bf1f20-a5c4-4292-a15d-837c297c812c",
      "metadata": {
        "id": "e2bf1f20-a5c4-4292-a15d-837c297c812c"
      },
      "source": [
        "Run the cell below to verify the correctness of your solution for the model architecture."
      ]
    },
    {
      "cell_type": "code",
      "execution_count": 43,
      "id": "fb522759-5853-487f-bc4a-9af0b02f7ae8",
      "metadata": {
        "id": "fb522759-5853-487f-bc4a-9af0b02f7ae8",
        "colab": {
          "base_uri": "https://localhost:8080/"
        },
        "outputId": "aab52f6b-58ba-4553-9ab8-98031d04be38"
      },
      "outputs": [
        {
          "output_type": "stream",
          "name": "stdout",
          "text": [
            "\u001b[92mGood job! All visible tests passed! You can proceed further.\u001b[0m\n"
          ]
        }
      ],
      "source": [
        "# Visible tests here\n",
        "all_tests_successful = True\n",
        "model = MyModel(\"ReLU\")\n",
        "dummy_input = torch.randn(1, 1, 22000)\n",
        "\n",
        "# Dictionary to hold the execution order of each BasicBlock's layers\n",
        "layer_execution_order = {}\n",
        "\n",
        "# Function to capture forward pass order of layers within each BasicBlock\n",
        "def track_execution_order(module, input, output, name):\n",
        "    layer_types = []\n",
        "    for sub_module in module.children():  # Iterate through layers within BasicBlock\n",
        "        layer_types.append(type(sub_module))\n",
        "    layer_execution_order[name] = layer_types\n",
        "\n",
        "# Register hooks on each BasicBlock to capture layer order in forward pass\n",
        "for name, module in model.named_modules():\n",
        "    if isinstance(module, BasicBlock):\n",
        "        module.register_forward_hook(lambda mod, inp, out, n=name: track_execution_order(mod, inp, out, n))\n",
        "\n",
        "# Run the model forward pass to trigger hooks\n",
        "dummy_output = model(dummy_input)\n",
        "\n",
        "# Define the expected order of layer types for BasicBlock with Dropout\n",
        "expected_order = [nn.Conv1d, nn.BatchNorm1d, nn.ReLU, nn.Dropout]\n",
        "\n",
        "# Check if each BasicBlock followed the expected order\n",
        "for name, order in layer_execution_order.items():\n",
        "    # Modify expected_order based on the chosen activation in model\n",
        "    current_expected_order = expected_order[:]\n",
        "    activation_fn_type = type(model.Hidden_1.activation_fn)  # Get the actual activation type\n",
        "    current_expected_order[2] = activation_fn_type  # Ensure activation function is dynamically set\n",
        "\n",
        "    if order != current_expected_order:\n",
        "        all_tests_successful = False\n",
        "        raise AssertionError(\n",
        "            f\"{name} layer order incorrect. Expected {[cls.__name__ for cls in current_expected_order]} \"\n",
        "            f\"but got {[cls.__name__ for cls in order]}.\"\n",
        "        )\n",
        "\n",
        "# Check output shape and range for LogSoftmax\n",
        "expected_shape = (1, 2)\n",
        "if dummy_output.shape != expected_shape:\n",
        "    all_tests_successful = False\n",
        "    raise AssertionError(f\"Expected output shape {expected_shape}, got {dummy_output.shape}.\")\n",
        "if not torch.all(dummy_output <= 0):\n",
        "    all_tests_successful = False\n",
        "    raise AssertionError(\"The output values are not within the expected range (-∞, 0]. LogSoftmax might be missing.\")\n",
        "\n",
        "# Final success message if all tests pass\n",
        "if all_tests_successful:\n",
        "    success_str = \"Good job! All visible tests passed! You can proceed further.\"\n",
        "    print(f\"\\033[92m{success_str}\\033[0m\")"
      ]
    },
    {
      "cell_type": "markdown",
      "id": "686ab9b4-3f42-488a-9785-2788597edc7e",
      "metadata": {
        "id": "686ab9b4-3f42-488a-9785-2788597edc7e"
      },
      "source": [
        "### Train and Validate\n",
        "\n",
        "Run the cell below to apply training and validation where the model is called with \"ReLU\" non-linearity.\n",
        "\n",
        "Repeat the training several times and compare the results with the model without the dropout layers. Do you observe any changed with the patterns of instability or overfitting?\n"
      ]
    },
    {
      "cell_type": "code",
      "execution_count": 44,
      "id": "726e0356",
      "metadata": {
        "id": "726e0356",
        "colab": {
          "base_uri": "https://localhost:8080/",
          "height": 1000
        },
        "outputId": "4146fbce-39ac-46a6-d0fe-3e95b5368899"
      },
      "outputs": [
        {
          "output_type": "stream",
          "name": "stdout",
          "text": [
            "The model has 365830 trainable parameters.\n",
            "Epoch 1, train_loss 0.69, train_accuracy: 0.5889, val_loss 0.09, val_accuracy: 0.5000, time = 1.25\n",
            "Epoch 2, train_loss 0.69, train_accuracy: 0.5000, val_loss 0.09, val_accuracy: 0.5000, time = 1.07\n",
            "Epoch 3, train_loss 0.69, train_accuracy: 0.5000, val_loss 0.09, val_accuracy: 0.5000, time = 0.89\n",
            "Epoch 4, train_loss 0.69, train_accuracy: 0.5000, val_loss 0.09, val_accuracy: 0.5000, time = 0.84\n",
            "Epoch 5, train_loss 0.69, train_accuracy: 0.5000, val_loss 0.09, val_accuracy: 0.5000, time = 0.84\n",
            "Epoch 10, train_loss 0.69, train_accuracy: 0.5000, val_loss 0.09, val_accuracy: 0.5000, time = 0.8\n",
            "Epoch 20, train_loss 0.69, train_accuracy: 0.5000, val_loss 0.09, val_accuracy: 0.5000, time = 0.83\n",
            "Epoch 30, train_loss 0.69, train_accuracy: 0.5000, val_loss 0.09, val_accuracy: 0.5000, time = 1.05\n",
            "Epoch 40, train_loss 0.69, train_accuracy: 0.5000, val_loss 0.09, val_accuracy: 0.5000, time = 0.82\n",
            "Epoch 50, train_loss 0.69, train_accuracy: 0.5000, val_loss 0.09, val_accuracy: 0.5000, time = 0.79\n",
            "Epoch 60, train_loss 0.69, train_accuracy: 0.5000, val_loss 0.09, val_accuracy: 0.5000, time = 1.08\n",
            "Epoch 70, train_loss 0.69, train_accuracy: 0.5000, val_loss 0.09, val_accuracy: 0.5000, time = 0.82\n",
            "Epoch 80, train_loss 0.69, train_accuracy: 0.5000, val_loss 0.09, val_accuracy: 0.5000, time = 0.79\n",
            "Epoch 90, train_loss 0.69, train_accuracy: 0.5000, val_loss 0.09, val_accuracy: 0.5000, time = 0.88\n",
            "Epoch 100, train_loss 0.69, train_accuracy: 0.5000, val_loss 0.09, val_accuracy: 0.5000, time = 0.81\n",
            "Epoch 110, train_loss 0.69, train_accuracy: 0.5000, val_loss 0.09, val_accuracy: 0.5000, time = 0.82\n",
            "Epoch 120, train_loss 0.69, train_accuracy: 0.5000, val_loss 0.09, val_accuracy: 0.5000, time = 0.81\n",
            "Epoch 130, train_loss 0.69, train_accuracy: 0.5000, val_loss 0.09, val_accuracy: 0.5000, time = 0.79\n",
            "Epoch 140, train_loss 0.69, train_accuracy: 0.5000, val_loss 0.09, val_accuracy: 0.5000, time = 0.8\n",
            "Epoch 150, train_loss 0.69, train_accuracy: 0.5000, val_loss 0.09, val_accuracy: 0.5000, time = 0.81\n",
            "Epoch 160, train_loss 0.69, train_accuracy: 0.5000, val_loss 0.09, val_accuracy: 0.5000, time = 0.81\n",
            "Epoch 170, train_loss 0.69, train_accuracy: 0.5000, val_loss 0.09, val_accuracy: 0.5000, time = 0.8\n",
            "Epoch 180, train_loss 0.69, train_accuracy: 0.5000, val_loss 0.09, val_accuracy: 0.5000, time = 0.85\n",
            "Epoch 190, train_loss 0.69, train_accuracy: 0.5000, val_loss 0.09, val_accuracy: 0.5000, time = 1.05\n",
            "Epoch 200, train_loss 0.69, train_accuracy: 0.5000, val_loss 0.09, val_accuracy: 0.5000, time = 0.84\n",
            "Epoch 210, train_loss 0.69, train_accuracy: 0.5000, val_loss 0.09, val_accuracy: 0.5000, time = 0.79\n",
            "Epoch 220, train_loss 0.69, train_accuracy: 0.5000, val_loss 0.09, val_accuracy: 0.5000, time = 1.04\n",
            "Epoch 230, train_loss 0.69, train_accuracy: 0.5000, val_loss 0.09, val_accuracy: 0.5000, time = 0.8\n",
            "Epoch 240, train_loss 0.69, train_accuracy: 0.5000, val_loss 0.09, val_accuracy: 0.5000, time = 0.81\n",
            "Epoch 250, train_loss 0.69, train_accuracy: 0.5000, val_loss 0.09, val_accuracy: 0.5000, time = 1.08\n",
            "Epoch 260, train_loss 0.69, train_accuracy: 0.5000, val_loss 0.09, val_accuracy: 0.5000, time = 0.83\n",
            "Epoch 270, train_loss 0.69, train_accuracy: 0.5000, val_loss 0.09, val_accuracy: 0.5000, time = 0.8\n",
            "Epoch 280, train_loss 0.69, train_accuracy: 0.5000, val_loss 0.09, val_accuracy: 0.5000, time = 1.12\n",
            "Epoch 290, train_loss 0.69, train_accuracy: 0.5000, val_loss 0.09, val_accuracy: 0.5000, time = 0.81\n",
            "Epoch 300, train_loss 0.69, train_accuracy: 0.5000, val_loss 0.09, val_accuracy: 0.5000, time = 0.8\n",
            "Finished training_loop() within 4 minutes and 18 seconds\n"
          ]
        },
        {
          "output_type": "display_data",
          "data": {
            "text/plain": [
              "<Figure size 1600x600 with 2 Axes>"
            ],
            "image/png": "[encoded data removed]"
          },
          "metadata": {}
        }
      ],
      "source": [
        "# data\n",
        "np.random.seed(1)\n",
        "valsplit = 0.30\n",
        "file_list =  prepare_file_list(path, valsplit)\n",
        "sample_sec = 2\n",
        "batch_size = 8\n",
        "data_loader = {tv: torch.utils.data.DataLoader(MSDataset(file_list[tv], sample_sec=sample_sec, is_train=tv=='train'),\n",
        "                                               batch_size=batch_size,\n",
        "                                               shuffle=False) for tv in ['train', 'val']}\n",
        "\n",
        "# model\n",
        "model = MyModel(\"ReLU\").to(device)\n",
        "num_params = get_num_trainable_parameters(model)\n",
        "\n",
        "# optimizer\n",
        "learning_rate = 0.0001\n",
        "optimizer = torch.optim.Adam(model.parameters(), lr=learning_rate)\n",
        "\n",
        "# loss\n",
        "criterion = nn.CrossEntropyLoss().to(device)\n",
        "\n",
        "# history\n",
        "history = None\n",
        "if not skip_training:\n",
        "    history = training_loop(300, optimizer, model, criterion, data_loader['train'], data_loader['val'], history)\n",
        "    torch.save(model.state_dict(), 'model.pth')\n",
        "    plot_history(history)"
      ]
    },
    {
      "cell_type": "markdown",
      "id": "9d22077d-b53f-4d88-8c03-c61466c5900b",
      "metadata": {
        "id": "9d22077d-b53f-4d88-8c03-c61466c5900b"
      },
      "source": [
        "### Task 4.3: Experiment with efficient model architecture through pooling layers\n",
        "\n",
        "As the final step, try to increase the model efficiency through a wiser design of the model architecture. In a deep learning model, while using a stack of convolutional blocks, it is common practice to use pooling layers between convolutional layers to decrease the dimension of the data and the resolution of deeper layers. This helps make the model lighter by reducing the number of trainable parameters and, at the same time, increases the model's performance by helping it focus on different feature types at different layers. For example, in the case of audio processing, the shallower layers can focus on finding variations in short time windows, while deeper layers can focus on detecting longer variations.\n",
        "\n",
        "In this task, you are asked to follow the same logic and modify the model architecture using pooling layers.\n",
        "\n",
        "Save the trained model as **'pooled_model.pth'** and submit it to Moodle along with your other files.\n",
        "\n",
        "In the template prepared for the model architecture below, fill in the blanks as instructed."
      ]
    },
    {
      "cell_type": "code",
      "execution_count": 65,
      "id": "df61bbcd",
      "metadata": {
        "id": "df61bbcd"
      },
      "outputs": [],
      "source": [
        "class BasicBlock(nn.Module):\n",
        "\n",
        "    def __init__(self, in_channels, out_channels, nonlin=\"Tanh\"):\n",
        "        super().__init__()\n",
        "        self.conv_layer = nn.Conv1d(in_channels=in_channels,\n",
        "                                    out_channels=out_channels, kernel_size=22,\n",
        "                                    stride=2)\n",
        "        self.bn = nn.BatchNorm1d(out_channels)\n",
        "        if nonlin == \"ELU\":\n",
        "            self.activation_fn = nn.ELU()\n",
        "        elif nonlin == \"ReLU\":\n",
        "            self.activation_fn = nn.ReLU()\n",
        "        elif nonlin == \"Tanh\":\n",
        "            self.activation_fn = nn.Tanh()\n",
        "        self.dropout = nn.Dropout(p=0.5)\n",
        "\n",
        "    def forward(self, x):\n",
        "        x = self.conv_layer(x)\n",
        "        x = self.bn(x)\n",
        "        x = self.activation_fn(x)\n",
        "        x = self.dropout(x)\n",
        "        return x\n",
        "\n",
        "        # YOUR CODE HERE\n",
        "\n",
        "\n",
        "class MyModel(nn.Module):\n",
        "    def __init__(self, nonlin =\"Tanh\"):\n",
        "        super().__init__()\n",
        "          # First hidden layer\n",
        "        self.layer1 = BasicBlock(\n",
        "            in_channels=1, out_channels=8, nonlin=nonlin)\n",
        "        self.pool1 = nn.MaxPool1d(kernel_size=10)\n",
        "\n",
        "        # Second hidden layer\n",
        "        self.layer2 = BasicBlock(\n",
        "            in_channels=8, out_channels=16, nonlin=nonlin)\n",
        "        self.pool2 = nn.MaxPool1d(kernel_size=10)\n",
        "\n",
        "        # Third hidden layer\n",
        "        self.layer3 = BasicBlock(\n",
        "            in_channels=16, out_channels=32, nonlin=nonlin)\n",
        "\n",
        "        # Global average pooling\n",
        "        self.global_avg_pool = nn.AdaptiveAvgPool1d(output_size=1)\n",
        "\n",
        "        # Fully connected layer\n",
        "        self.fc = nn.Linear(32, 2)  # Assuming 10 output classes\n",
        "\n",
        "        # Final activation function (LogSoftmax)\n",
        "        self.log_softmax = nn.LogSoftmax(dim=1)\n",
        "\n",
        "    def forward(self, x):\n",
        "        # Forward pass through the layers\n",
        "        x = self.layer1(x)\n",
        "        x = self.pool1(x)\n",
        "        x = self.layer2(x)\n",
        "        x = self.pool2(x)\n",
        "        x = self.layer3(x)\n",
        "\n",
        "        # Global average pooling\n",
        "        x = self.global_avg_pool(x)\n",
        "        x = torch.flatten(x, 1)  # Flatten the output\n",
        "\n",
        "        # Fully connected layer\n",
        "        x = self.fc(x)\n",
        "\n",
        "        # Final activation function\n",
        "        x = self.log_softmax(x)\n",
        "\n",
        "\n",
        "\n",
        "        return x\n",
        "\n",
        "def get_num_trainable_parameters(model):\n",
        "    num_params = sum(p.numel() for p in model.parameters() if p.requires_grad)\n",
        "    print(f'The model has {num_params} trainable parameters.')\n",
        "    return num_params"
      ]
    },
    {
      "cell_type": "markdown",
      "id": "2410cdec-3969-4a63-b643-3af789855b84",
      "metadata": {
        "id": "2410cdec-3969-4a63-b643-3af789855b84"
      },
      "source": [
        "Run the cell below to verify the correctness of your solution for the model architecture."
      ]
    },
    {
      "cell_type": "code",
      "execution_count": 66,
      "id": "717128ee-c087-4596-bd88-c9cfb1dc8086",
      "metadata": {
        "id": "717128ee-c087-4596-bd88-c9cfb1dc8086",
        "colab": {
          "base_uri": "https://localhost:8080/"
        },
        "outputId": "ef348b70-9914-4602-866a-e91b0c8d5c61"
      },
      "outputs": [
        {
          "output_type": "stream",
          "name": "stdout",
          "text": [
            "\u001b[92mGood job! All visible tests passed! You can proceed further.\u001b[0m\n"
          ]
        }
      ],
      "source": [
        "# Visible tests here\n",
        "all_tests_successful = True\n",
        "model = MyModel(\"ReLU\")\n",
        "dummy_input = torch.randn(1, 1, 22000)\n",
        "dummy_output = model(dummy_input)\n",
        "\n",
        "# Count the number of Conv1d layers and check their channels\n",
        "conv1d_layers = [layer for layer in model.modules() if isinstance(layer, nn.Conv1d)]\n",
        "conv1d_count = len(conv1d_layers)\n",
        "\n",
        "# Test the number of Conv1d layers\n",
        "expected_conv_count = 3  # Number of Conv1d layers expected\n",
        "if conv1d_count != expected_conv_count:\n",
        "    all_tests_successful = False\n",
        "    raise AssertionError(f\"Expected {expected_conv_count} Conv1d layers, got {conv1d_count}.\")\n",
        "\n",
        "# Check expected output channels\n",
        "expected_channels = [8, 16, 32]  # Expected output channels for the three Conv1d layers\n",
        "\n",
        "for i, layer in enumerate(conv1d_layers):\n",
        "    if layer.out_channels != expected_channels[i]:\n",
        "        all_tests_successful = False\n",
        "        raise AssertionError(f\"Conv1d layer {i + 1} does not have {expected_channels[i]} filters (channels). It has {layer.out_channels} filters.\")\n",
        "\n",
        "# Check the output shape\n",
        "expected_shape = (1, 2)  # Expected output shape\n",
        "if dummy_output.shape != expected_shape:\n",
        "    all_tests_successful = False\n",
        "    raise AssertionError(f\"Expected output shape {expected_shape}, but got {dummy_output.shape}.\")\n",
        "\n",
        "# Check the number of trainable parameters\n",
        "def get_num_trainable_parameters(model):\n",
        "    return sum(p.numel() for p in model.parameters() if p.requires_grad)\n",
        "\n",
        "num_params = get_num_trainable_parameters(model)\n",
        "expected_num_parameters = 14490  # Expected number of trainable parameters\n",
        "if num_params != expected_num_parameters:\n",
        "    all_tests_successful = False\n",
        "    raise AssertionError(f\"Expected number of trainable parameters {expected_num_parameters}, but got {num_params}.\")\n",
        "\n",
        "# Check the output range for LogSoftmax (should be <= 0)\n",
        "if not torch.all(dummy_output <= 0):\n",
        "    all_tests_successful = False\n",
        "    raise AssertionError(\"The output values are not within the expected range (-∞, 0]. LogSoftmax might be missing.\")\n",
        "\n",
        "if all_tests_successful:\n",
        "    success_str = \"Good job! All visible tests passed! You can proceed further.\"\n",
        "    print(f\"\\033[92m{success_str}\\033[0m\")\n"
      ]
    },
    {
      "cell_type": "markdown",
      "id": "7e2e6963-59d4-4361-98b9-cae532592d50",
      "metadata": {
        "id": "7e2e6963-59d4-4361-98b9-cae532592d50"
      },
      "source": [
        "### Train and Validate\n",
        "\n",
        "Now, run the cell below to apply training and validation to your model. Remember to save the trained model as **'pooled_model.pth'** and submit it to Moodle along with your other files.\n",
        "\n",
        "Compare the results with those from previously tested models. Observe how the hierarchical design of the convolutional blocks influences the model's performance on the training and validation splits. Additionally, take note of how this design impacts the number of trainable parameters and the overall training time."
      ]
    },
    {
      "cell_type": "code",
      "execution_count": 67,
      "id": "ac6bb929-3358-4c41-b18e-08d59bd76843",
      "metadata": {
        "id": "ac6bb929-3358-4c41-b18e-08d59bd76843",
        "colab": {
          "base_uri": "https://localhost:8080/",
          "height": 1000
        },
        "outputId": "ab4e3abd-07cc-44b8-ce47-0dcf083e6e33"
      },
      "outputs": [
        {
          "output_type": "stream",
          "name": "stdout",
          "text": [
            "Epoch 1, train_loss 0.71, train_accuracy: 0.4889, val_loss 0.09, val_accuracy: 0.5000, time = 0.69\n",
            "Epoch 2, train_loss 0.71, train_accuracy: 0.5000, val_loss 0.09, val_accuracy: 0.5000, time = 0.43\n",
            "Epoch 3, train_loss 0.70, train_accuracy: 0.5000, val_loss 0.09, val_accuracy: 0.5000, time = 0.52\n",
            "Epoch 4, train_loss 0.70, train_accuracy: 0.5000, val_loss 0.09, val_accuracy: 0.5000, time = 0.41\n",
            "Epoch 5, train_loss 0.70, train_accuracy: 0.5000, val_loss 0.09, val_accuracy: 0.5000, time = 0.43\n",
            "Epoch 10, train_loss 0.69, train_accuracy: 0.5000, val_loss 0.09, val_accuracy: 0.5000, time = 0.43\n",
            "Epoch 20, train_loss 0.69, train_accuracy: 0.5111, val_loss 0.09, val_accuracy: 0.5000, time = 0.44\n",
            "Epoch 30, train_loss 0.69, train_accuracy: 0.5222, val_loss 0.09, val_accuracy: 0.5263, time = 0.42\n",
            "Epoch 40, train_loss 0.69, train_accuracy: 0.5778, val_loss 0.09, val_accuracy: 0.5789, time = 0.57\n",
            "Epoch 50, train_loss 0.68, train_accuracy: 0.6111, val_loss 0.09, val_accuracy: 0.6053, time = 0.41\n",
            "Epoch 60, train_loss 0.67, train_accuracy: 0.5889, val_loss 0.09, val_accuracy: 0.6579, time = 0.41\n",
            "Epoch 70, train_loss 0.66, train_accuracy: 0.5889, val_loss 0.09, val_accuracy: 0.6053, time = 0.67\n",
            "Epoch 80, train_loss 0.64, train_accuracy: 0.6333, val_loss 0.09, val_accuracy: 0.6053, time = 0.42\n",
            "Epoch 90, train_loss 0.63, train_accuracy: 0.6444, val_loss 0.08, val_accuracy: 0.6053, time = 0.42\n",
            "Epoch 100, train_loss 0.61, train_accuracy: 0.7000, val_loss 0.08, val_accuracy: 0.6842, time = 0.42\n",
            "Epoch 110, train_loss 0.59, train_accuracy: 0.7222, val_loss 0.08, val_accuracy: 0.7105, time = 0.43\n",
            "Epoch 120, train_loss 0.56, train_accuracy: 0.7667, val_loss 0.08, val_accuracy: 0.7105, time = 0.43\n",
            "Epoch 130, train_loss 0.53, train_accuracy: 0.8111, val_loss 0.07, val_accuracy: 0.7368, time = 0.44\n",
            "Epoch 140, train_loss 0.50, train_accuracy: 0.8000, val_loss 0.07, val_accuracy: 0.7368, time = 0.46\n",
            "Epoch 150, train_loss 0.47, train_accuracy: 0.8000, val_loss 0.07, val_accuracy: 0.7632, time = 0.59\n",
            "Epoch 160, train_loss 0.45, train_accuracy: 0.8222, val_loss 0.06, val_accuracy: 0.7632, time = 0.44\n",
            "Epoch 170, train_loss 0.43, train_accuracy: 0.8444, val_loss 0.06, val_accuracy: 0.7895, time = 0.47\n",
            "Epoch 180, train_loss 0.40, train_accuracy: 0.8556, val_loss 0.06, val_accuracy: 0.7895, time = 0.63\n",
            "Epoch 190, train_loss 0.38, train_accuracy: 0.8556, val_loss 0.06, val_accuracy: 0.7895, time = 0.41\n",
            "Epoch 200, train_loss 0.37, train_accuracy: 0.8667, val_loss 0.06, val_accuracy: 0.8158, time = 0.43\n",
            "Epoch 210, train_loss 0.35, train_accuracy: 0.8778, val_loss 0.05, val_accuracy: 0.8158, time = 0.42\n",
            "Epoch 220, train_loss 0.33, train_accuracy: 0.8778, val_loss 0.05, val_accuracy: 0.8421, time = 0.42\n",
            "Epoch 230, train_loss 0.32, train_accuracy: 0.8778, val_loss 0.05, val_accuracy: 0.8158, time = 0.43\n",
            "Epoch 240, train_loss 0.30, train_accuracy: 0.8889, val_loss 0.05, val_accuracy: 0.8158, time = 0.43\n",
            "Epoch 250, train_loss 0.29, train_accuracy: 0.8889, val_loss 0.05, val_accuracy: 0.8158, time = 0.42\n",
            "Epoch 260, train_loss 0.27, train_accuracy: 0.8889, val_loss 0.05, val_accuracy: 0.8158, time = 0.45\n",
            "Epoch 270, train_loss 0.26, train_accuracy: 0.9000, val_loss 0.04, val_accuracy: 0.8158, time = 0.44\n",
            "Epoch 280, train_loss 0.25, train_accuracy: 0.9000, val_loss 0.04, val_accuracy: 0.8158, time = 0.43\n",
            "Epoch 290, train_loss 0.24, train_accuracy: 0.9111, val_loss 0.04, val_accuracy: 0.8158, time = 0.6\n",
            "Epoch 300, train_loss 0.23, train_accuracy: 0.9111, val_loss 0.04, val_accuracy: 0.8421, time = 0.45\n",
            "Finished training_loop() within 2 minutes and 17 seconds\n"
          ]
        },
        {
          "output_type": "display_data",
          "data": {
            "text/plain": [
              "<Figure size 1600x600 with 2 Axes>"
            ],
            "image/png": "[encoded data removed]"
          },
          "metadata": {}
        }
      ],
      "source": [
        "# data\n",
        "np.random.seed(1)\n",
        "valsplit = 0.30\n",
        "file_list =  prepare_file_list(path, valsplit)\n",
        "sample_sec = 2\n",
        "batch_size = 8\n",
        "data_loader = {tv: torch.utils.data.DataLoader(MSDataset(file_list[tv], sample_sec=sample_sec, is_train=tv=='train'),\n",
        "                                               batch_size=batch_size,\n",
        "                                               shuffle=False) for tv in ['train', 'val']}\n",
        "\n",
        "# model\n",
        "model = MyModel(\"ReLU\").to(device)\n",
        "get_num_trainable_parameters(model)\n",
        "\n",
        "# optim\n",
        "learning_rate = 0.0001\n",
        "optimizer = torch.optim.Adam(model.parameters(), lr=learning_rate)\n",
        "\n",
        "# loss\n",
        "criterion = nn.CrossEntropyLoss().to(device)\n",
        "\n",
        "# history\n",
        "history = None\n",
        "if not skip_training:\n",
        "    history = training_loop(300, optimizer, model, criterion, data_loader['train'], data_loader['val'], history)\n",
        "    torch.save(model.state_dict(), 'pooled_model.pth')\n",
        "    plot_history(history)"
      ]
    },
    {
      "cell_type": "code",
      "execution_count": 68,
      "id": "c40c5289-ad0a-4355-981b-b63f0f3bc2ef",
      "metadata": {
        "id": "c40c5289-ad0a-4355-981b-b63f0f3bc2ef",
        "colab": {
          "base_uri": "https://localhost:8080/"
        },
        "outputId": "fed5c5d9-ac7e-4d3c-d121-3c574102558f"
      },
      "outputs": [
        {
          "output_type": "stream",
          "name": "stdout",
          "text": [
            "\u001b[92mAll visible tests for training and validation accuracy passed successfully!\u001b[0m\n"
          ]
        }
      ],
      "source": [
        "# Visible tests for checking the performance of the trained model\n",
        "all_tests_successful = True\n",
        "if not skip_training:\n",
        "    try:\n",
        "        # Test 1: Ensure training accuracy is within the correct range\n",
        "        max_tacc = max(history['train_accuracy'])\n",
        "        if not (0.5 <= max_tacc <= 1):\n",
        "            all_tests_successful = False\n",
        "            raise AssertionError(f\"Training accuracy {max_tacc} is out of the expected range [0.7, 1].\")\n",
        "\n",
        "        # Test 2: Ensure accuracy is within the correct range\n",
        "        max_vacc = max(history['val_accuracy'])\n",
        "        if not (0.5 <= max_vacc <= 1):\n",
        "            all_tests_successful = False\n",
        "            raise AssertionError(f\"Validation accuracy {max_vacc} is out of the expected range [0.7, 1].\")\n",
        "\n",
        "        if all_tests_successful:\n",
        "            print(f\"\\033[92mAll visible tests for training and validation accuracy passed successfully!\\033[0m\")\n",
        "\n",
        "    except AssertionError as e:\n",
        "        print(f\"\\033[91mTest failed: {e}\\033[0m\")\n",
        "\n",
        "else:\n",
        "    print(\"This visible test is applicable only when `skip_training` is set to `False`.\")"
      ]
    },
    {
      "cell_type": "code",
      "execution_count": 69,
      "id": "a974b53e-c4c8-4109-84f5-cbaa22d66785",
      "metadata": {
        "id": "a974b53e-c4c8-4109-84f5-cbaa22d66785"
      },
      "outputs": [],
      "source": [
        "# Do not delete this cell"
      ]
    }
  ],
  "metadata": {
    "colab": {
      "provenance": [],
      "gpuType": "T4"
    },
    "kernelspec": {
      "display_name": "Python 3",
      "name": "python3"
    },
    "language_info": {
      "codemirror_mode": {
        "name": "ipython",
        "version": 3
      },
      "file_extension": ".py",
      "mimetype": "text/x-python",
      "name": "python",
      "nbconvert_exporter": "python",
      "pygments_lexer": "ipython3",
      "version": "3.8.16"
    },
    "accelerator": "GPU"
  },
  "nbformat": 4,
  "nbformat_minor": 5
}